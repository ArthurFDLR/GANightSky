{
  "nbformat": 4,
  "nbformat_minor": 0,
  "metadata": {
    "kernelspec": {
      "display_name": "Python 3",
      "language": "python",
      "name": "python3"
    },
    "language_info": {
      "codemirror_mode": {
        "name": "ipython",
        "version": 3
      },
      "file_extension": ".py",
      "mimetype": "text/x-python",
      "name": "python",
      "nbconvert_exporter": "python",
      "pygments_lexer": "ipython3",
      "version": "3.7.9"
    },
    "colab": {
      "name": "tfr_from_video.ipynb",
      "provenance": [],
      "toc_visible": true
    }
  },
  "cells": [
    {
      "cell_type": "markdown",
      "metadata": {
        "id": "aJbmHEfXD_PF"
      },
      "source": [
        "# Generate frames from video"
      ]
    },
    {
      "cell_type": "code",
      "metadata": {
        "id": "rtXDCsJeD_PG"
      },
      "source": [
        "import numpy as np\n",
        "import cv2\n",
        "from pathlib import Path\n",
        "from google.colab import drive\n",
        "from tqdm import tqdm"
      ],
      "execution_count": 1,
      "outputs": []
    },
    {
      "cell_type": "code",
      "metadata": {
        "id": "FRlmHKdFETkl",
        "outputId": "f5add630-14f7-4ada-b4ab-e6d0e1d74460",
        "colab": {
          "base_uri": "https://localhost:8080/"
        }
      },
      "source": [
        "drive_path = Path('/').absolute() / 'content' / 'drive'\n",
        "drive.mount(str(drive_path))\n",
        "\n",
        "video_name = 'NightSky.mp4'\n",
        "datasets_path = drive_path / 'My Drive' / 'StyleGAN2-ADA' / 'datasets'"
      ],
      "execution_count": 2,
      "outputs": [
        {
          "output_type": "stream",
          "text": [
            "Drive already mounted at /content/drive; to attempt to forcibly remount, call drive.mount(\"/content/drive\", force_remount=True).\n"
          ],
          "name": "stdout"
        }
      ]
    },
    {
      "cell_type": "markdown",
      "metadata": {
        "id": "Fw-SG5gcD_PI"
      },
      "source": [
        "## Import video"
      ]
    },
    {
      "cell_type": "code",
      "metadata": {
        "id": "wbD8OeGrD_PJ",
        "outputId": "4628824a-b032-489d-b969-91a2ce846ae1",
        "colab": {
          "base_uri": "https://localhost:8080/"
        }
      },
      "source": [
        "video_path = datasets_path / 'source' / video_name\n",
        "if video_path.is_file():\n",
        "    video_cap = cv2.VideoCapture(str(video_path))\n",
        "    video_width  = video_cap.get(cv2.CAP_PROP_FRAME_WIDTH)\n",
        "    video_height = video_cap.get(cv2.CAP_PROP_FRAME_HEIGHT)\n",
        "    video_fps    = video_cap.get(cv2.CAP_PROP_FPS)\n",
        "    dataset_name = video_path.stem\n",
        "    video_nbr_frame = int(video_cap.get(cv2.CAP_PROP_FRAME_COUNT))\n",
        "    print('Video open.')"
      ],
      "execution_count": 3,
      "outputs": [
        {
          "output_type": "stream",
          "text": [
            "Video open.\n"
          ],
          "name": "stdout"
        }
      ]
    },
    {
      "cell_type": "markdown",
      "metadata": {
        "id": "Gw977mtsD_PM"
      },
      "source": [
        "## Parameters and folder creation"
      ]
    },
    {
      "cell_type": "code",
      "metadata": {
        "id": "iPtTNN27D_PM"
      },
      "source": [
        "dataset_path = datasets_path / dataset_name\n",
        "extraction_fps = 3\n",
        "extraction_resolution = 1024\n",
        "\n",
        "if (dataset_path).is_dir():\n",
        "    if len([x for x in dataset_path.glob('**/*')]) > 0:\n",
        "        print('\\N{Heavy Exclamation Mark Symbol} Dataset already created \\N{Heavy Exclamation Mark Symbol}')\n",
        "        print('Delete current dataset folder ({}) to regenerate images.'.format(dataset_path))\n",
        "else:\n",
        "    %mkdir \"{dataset_path}\""
      ],
      "execution_count": 5,
      "outputs": []
    },
    {
      "cell_type": "code",
      "metadata": {
        "id": "JTEdNDiOD_PO",
        "outputId": "364ef259-83a2-46ed-e21d-1dceca058279",
        "colab": {
          "base_uri": "https://localhost:8080/"
        }
      },
      "source": [
        "frame_counter_out = 0\n",
        "\n",
        "for counter in tqdm(range(video_nbr_frame)):\n",
        "    if (video_cap.isOpened()):\n",
        "        ret, frame = video_cap.read()\n",
        "\n",
        "        if counter % int(video_fps / extraction_fps) == 0:\n",
        "            frame_counter_out += 1\n",
        "            frame_squared = cv2.resize(frame, (extraction_resolution,extraction_resolution), interpolation = cv2.INTER_AREA)\n",
        "            cv2.imwrite(str(dataset_path / (dataset_name + '_{}.jpg'.format(frame_counter_out))), frame_squared)\n",
        "\n",
        "            if cv2.waitKey(1) & 0xFF == ord('q'):\n",
        "                break\n",
        "    else:\n",
        "        break"
      ],
      "execution_count": 6,
      "outputs": [
        {
          "output_type": "stream",
          "text": [
            "100%|██████████| 29046/29046 [11:35<00:00, 41.75it/s]\n"
          ],
          "name": "stderr"
        }
      ]
    },
    {
      "cell_type": "code",
      "metadata": {
        "id": "cSaPIBnyD_PR"
      },
      "source": [
        "video_cap.release()\n",
        "cv2.destroyAllWindows()"
      ],
      "execution_count": 7,
      "outputs": []
    },
    {
      "cell_type": "markdown",
      "metadata": {
        "id": "F11G7TitD_PT"
      },
      "source": [
        "## Check dataset"
      ]
    },
    {
      "cell_type": "code",
      "metadata": {
        "id": "xK4LxzGiD_PT"
      },
      "source": [
        "for path in dataset_path.glob('**/*.jpg'):\n",
        "    path_str = str(path)\n",
        "    img = cv2.imread(path_str)\n",
        "    dimensions = img.shape\n",
        "    if dimensions != (1024,1024,3):\n",
        "        print('Error')"
      ],
      "execution_count": 8,
      "outputs": []
    },
    {
      "cell_type": "code",
      "metadata": {
        "id": "PXdmkncPD_PW"
      },
      "source": [
        ""
      ],
      "execution_count": null,
      "outputs": []
    }
  ]
}
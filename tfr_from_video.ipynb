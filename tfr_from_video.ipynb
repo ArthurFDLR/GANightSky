{
 "cells": [
  {
   "cell_type": "markdown",
   "metadata": {},
   "source": [
    "# Generate frames from video"
   ]
  },
  {
   "cell_type": "code",
   "execution_count": 3,
   "metadata": {},
   "outputs": [],
   "source": [
    "import numpy as np\n",
    "import cv2\n",
    "from IPython.display import Video, HTML\n",
    "from pathlib import Path\n",
    "\n",
    "local_path = Path('.')"
   ]
  },
  {
   "cell_type": "markdown",
   "metadata": {},
   "source": [
    "## Import video"
   ]
  },
  {
   "cell_type": "code",
   "execution_count": 4,
   "metadata": {},
   "outputs": [
    {
     "data": {
      "text/html": [
       "\n",
       "    <video width=\"858\" height=\"480\" controls>\n",
       "        <source src=\"NightSky.mp4\" type=\"video/mp4\">\n",
       "    </video>\n",
       "    "
      ],
      "text/plain": [
       "<IPython.core.display.HTML object>"
      ]
     },
     "execution_count": 4,
     "metadata": {},
     "output_type": "execute_result"
    }
   ],
   "source": [
    "video_path = local_path / 'NightSky.mp4'\n",
    "video_cap = cv2.VideoCapture(str(video_path))\n",
    "video_width  = video_cap.get(cv2.CAP_PROP_FRAME_WIDTH)\n",
    "video_height = video_cap.get(cv2.CAP_PROP_FRAME_HEIGHT)\n",
    "video_fps    = video_cap.get(cv2.CAP_PROP_FPS)\n",
    "video_name   = video_path.stem\n",
    "video_nbr_frame = int(video_cap.get(cv2.CAP_PROP_FRAME_COUNT))\n",
    "\n",
    "HTML(\"\"\"\n",
    "    <video width=\"858\" height=\"480\" controls>\n",
    "        <source src=\"{}\" type=\"video/mp4\">\n",
    "    </video>\n",
    "    \"\"\".format(video_path))"
   ]
  },
  {
   "cell_type": "markdown",
   "metadata": {},
   "source": [
    "## Parameters and folder creation"
   ]
  },
  {
   "cell_type": "code",
   "execution_count": 5,
   "metadata": {},
   "outputs": [
    {
     "name": "stdout",
     "output_type": "stream",
     "text": [
      "❗ Dataset already created ❗\n",
      "Delete current dataset folder (NightSky_dataset) to regenerate images.\n"
     ]
    }
   ],
   "source": [
    "dataset_path = local_path / (video_name + '_dataset')\n",
    "extraction_fps = 3\n",
    "extraction_resolution = 1024\n",
    "\n",
    "if (dataset_path).is_dir():\n",
    "    if len([x for x in dataset_path.glob('**/*')]) > 0:\n",
    "        print('\\N{Heavy Exclamation Mark Symbol} Dataset already created \\N{Heavy Exclamation Mark Symbol}')\n",
    "        print('Delete current dataset folder ({}) to regenerate images.'.format(dataset_path))\n",
    "else:\n",
    "    %mkdir \"{dataset_path}\""
   ]
  },
  {
   "cell_type": "code",
   "execution_count": 4,
   "metadata": {},
   "outputs": [],
   "source": [
    "frame_counter_out = 0\n",
    "\n",
    "for counter in range(video_nbr_frame):\n",
    "    if (video_cap.isOpened()):\n",
    "        ret, frame = video_cap.read()\n",
    "\n",
    "        if counter % int(video_fps / extraction_fps) == 0:\n",
    "            frame_counter_out += 1\n",
    "            frame_squared = cv2.resize(frame, (extraction_resolution,extraction_resolution), interpolation = cv2.INTER_AREA)\n",
    "            cv2.imshow('{} frame extraction'.format(video_name),frame_squared)\n",
    "            cv2.imwrite(str(dataset_path / (video_name + '_{}.jpg'.format(frame_counter_out))), frame_squared)\n",
    "\n",
    "            if cv2.waitKey(1) & 0xFF == ord('q'):\n",
    "                break\n",
    "    else:\n",
    "        break"
   ]
  },
  {
   "cell_type": "code",
   "execution_count": 5,
   "metadata": {},
   "outputs": [],
   "source": [
    "video_cap.release()\n",
    "cv2.destroyAllWindows()"
   ]
  },
  {
   "cell_type": "markdown",
   "metadata": {},
   "source": [
    "## Check dataset"
   ]
  },
  {
   "cell_type": "code",
   "execution_count": 8,
   "metadata": {},
   "outputs": [],
   "source": [
    "for path in dataset_path.glob('**/*.jpg'):\n",
    "    path_str = str(path)\n",
    "    img = cv2.imread(path_str)\n",
    "    dimensions = img.shape\n",
    "    if dimensions != (1024,1024,3):\n",
    "        print('Error')"
   ]
  },
  {
   "cell_type": "code",
   "execution_count": null,
   "metadata": {},
   "outputs": [],
   "source": []
  }
 ],
 "metadata": {
  "kernelspec": {
   "display_name": "Python 3",
   "language": "python",
   "name": "python3"
  },
  "language_info": {
   "codemirror_mode": {
    "name": "ipython",
    "version": 3
   },
   "file_extension": ".py",
   "mimetype": "text/x-python",
   "name": "python",
   "nbconvert_exporter": "python",
   "pygments_lexer": "ipython3",
   "version": "3.7.9"
  }
 },
 "nbformat": 4,
 "nbformat_minor": 4
}
